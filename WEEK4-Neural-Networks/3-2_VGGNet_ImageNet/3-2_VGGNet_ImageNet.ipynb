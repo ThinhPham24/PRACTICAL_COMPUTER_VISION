{
  "nbformat": 4,
  "nbformat_minor": 0,
  "metadata": {
    "colab": {
      "name": "2-1_Feature_map_visualization.ipynb",
      "provenance": [],
      "collapsed_sections": []
    },
    "kernelspec": {
      "name": "python3",
      "display_name": "Python 3"
    },
    "accelerator": "GPU"
  },
  "cells": [
    {
      "cell_type": "code",
      "metadata": {
        "id": "XhRIufI0Xhn1"
      },
      "source": [
        "import cv2\n",
        "import numpy as np\n",
        "import torch\n",
        "from torch.autograd import Variable\n",
        "from torchvision import models\n",
        "import matplotlib.pyplot as plt\n",
        "import os\n",
        "import torch.nn as nn"
      ],
      "execution_count": 16,
      "outputs": []
    },
    {
      "cell_type": "code",
      "metadata": {
        "id": "_hYzFka9Xj87"
      },
      "source": [
        "def preprocess_image(cv2im, resize_im=True):\n",
        "\n",
        "    # Resize image\n",
        "    if resize_im:\n",
        "        cv2im = cv2.resize(cv2im, (224, 224))\n",
        "    im_as_arr = np.float32(cv2im)\n",
        "    im_as_arr = np.ascontiguousarray(im_as_arr[..., ::-1])\n",
        "    im_as_arr = im_as_arr.transpose(2, 0, 1)  # Convert array to D,W,H\n",
        "    # Normalize the channels\n",
        "    for channel, _ in enumerate(im_as_arr):\n",
        "        im_as_arr[channel] /= 255\n",
        "    # Convert to float tensor\n",
        "    im_as_ten = torch.from_numpy(im_as_arr).float()\n",
        "    # Add one more channel to the beginning. Tensor shape = 1,3,224,224\n",
        "    im_as_ten.unsqueeze_(0)\n",
        "    # Convert to Pytorch variable\n",
        "    im_as_var = Variable(im_as_ten, requires_grad=True)\n",
        "    return im_as_var"
      ],
      "execution_count": 17,
      "outputs": []
    },
    {
      "cell_type": "code",
      "metadata": {
        "id": "T6pkOvSyjaU_"
      },
      "source": [
        "class Pretrained_VGGNet():\n",
        "    def __init__(self,img_path):\n",
        "        self.img_path=img_path\n",
        "        # Load pretrained model\n",
        "        self.pretrained_model = models.vgg16(pretrained=True)\n",
        "        self.pretrained_model.eval()\n",
        "    def process_image(self):\n",
        "        img=cv2.imread(self.img_path)\n",
        "        img=preprocess_image(img)\n",
        "        return img\n",
        "\n",
        "    def get_single_feature(self):\n",
        "        # Get the feature map\n",
        "        features=self.get_feature()\n",
        "        feature=features[:,0,:,:]\n",
        "        feature=feature.view(feature.shape[1],feature.shape[2])\n",
        "\n",
        "        #print(features)\n",
        "        #print(feature.shape)\n",
        "        return feature\n",
        "\n",
        "    def plot_probablity(self,outputs):\n",
        "\n",
        "        outputs = outputs.data.numpy()\n",
        "        outputs = np.ndarray.tolist(outputs)\n",
        "\n",
        "        x = range(0, 1000)\n",
        "        plt.bar(x, outputs[0])\n",
        "        plt.xlabel(\"Class\")\n",
        "        plt.ylabel(\"Probablity\")\n",
        "        plt.title(\"Image classifier\")\n",
        "        plt.show()\n",
        "\n",
        "    def predict(self):\n",
        "        input=self.process_image()\n",
        "        outputs = self.pretrained_model(input)\n",
        "\n",
        "        s = torch.nn.Softmax(dim=1)\n",
        "        result = s(outputs)\n",
        "        self.plot_probablity(result)\n",
        "\n",
        "        prob, predicted = result.sort(1,descending=True)\n",
        "        prob = prob.data.numpy()\n",
        "\n",
        "        predicted = predicted.data.numpy()\n",
        "        \n",
        "        print(\"Probablity TOP-3:\\n\")\n",
        "        print(\"\")\n",
        "        for i in range(3):\n",
        "            \n",
        "            print(\"TOP_\"+str(i+1))\n",
        "            print(\"Probablity:{}\".format(prob[0][i]))\n",
        "            print(\"Predicted:{}\\n\".format(c[int(predicted[0][i])]))\n",
        "        return outputs"
      ],
      "execution_count": 24,
      "outputs": []
    },
    {
      "cell_type": "code",
      "metadata": {
        "id": "KGgajl_4XogN",
        "colab": {
          "base_uri": "https://localhost:8080/",
          "height": 1000
        },
        "outputId": "29076d72-3cc0-44bf-aec7-22ed1abce527"
      },
      "source": [
        "if __name__=='__main__':\n",
        "  # get class\n",
        "  c = {}\n",
        "  with open(\"imagenet1000_clsidx_to_labels.txt\") as f:\n",
        "    for line in f:\n",
        "      (key, val) = line.split(\":\")\n",
        "      c[int(key)] = val.split(\",\")[0]\n",
        "  # Define image path\n",
        "  myClass=Pretrained_VGGNet('./ice_bear.jpg')\n",
        "  print(myClass.pretrained_model)\n",
        "  myClass.predict()"
      ],
      "execution_count": 32,
      "outputs": [
        {
          "output_type": "stream",
          "name": "stdout",
          "text": [
            "VGG(\n",
            "  (features): Sequential(\n",
            "    (0): Conv2d(3, 64, kernel_size=(3, 3), stride=(1, 1), padding=(1, 1))\n",
            "    (1): ReLU(inplace=True)\n",
            "    (2): Conv2d(64, 64, kernel_size=(3, 3), stride=(1, 1), padding=(1, 1))\n",
            "    (3): ReLU(inplace=True)\n",
            "    (4): MaxPool2d(kernel_size=2, stride=2, padding=0, dilation=1, ceil_mode=False)\n",
            "    (5): Conv2d(64, 128, kernel_size=(3, 3), stride=(1, 1), padding=(1, 1))\n",
            "    (6): ReLU(inplace=True)\n",
            "    (7): Conv2d(128, 128, kernel_size=(3, 3), stride=(1, 1), padding=(1, 1))\n",
            "    (8): ReLU(inplace=True)\n",
            "    (9): MaxPool2d(kernel_size=2, stride=2, padding=0, dilation=1, ceil_mode=False)\n",
            "    (10): Conv2d(128, 256, kernel_size=(3, 3), stride=(1, 1), padding=(1, 1))\n",
            "    (11): ReLU(inplace=True)\n",
            "    (12): Conv2d(256, 256, kernel_size=(3, 3), stride=(1, 1), padding=(1, 1))\n",
            "    (13): ReLU(inplace=True)\n",
            "    (14): Conv2d(256, 256, kernel_size=(3, 3), stride=(1, 1), padding=(1, 1))\n",
            "    (15): ReLU(inplace=True)\n",
            "    (16): MaxPool2d(kernel_size=2, stride=2, padding=0, dilation=1, ceil_mode=False)\n",
            "    (17): Conv2d(256, 512, kernel_size=(3, 3), stride=(1, 1), padding=(1, 1))\n",
            "    (18): ReLU(inplace=True)\n",
            "    (19): Conv2d(512, 512, kernel_size=(3, 3), stride=(1, 1), padding=(1, 1))\n",
            "    (20): ReLU(inplace=True)\n",
            "    (21): Conv2d(512, 512, kernel_size=(3, 3), stride=(1, 1), padding=(1, 1))\n",
            "    (22): ReLU(inplace=True)\n",
            "    (23): MaxPool2d(kernel_size=2, stride=2, padding=0, dilation=1, ceil_mode=False)\n",
            "    (24): Conv2d(512, 512, kernel_size=(3, 3), stride=(1, 1), padding=(1, 1))\n",
            "    (25): ReLU(inplace=True)\n",
            "    (26): Conv2d(512, 512, kernel_size=(3, 3), stride=(1, 1), padding=(1, 1))\n",
            "    (27): ReLU(inplace=True)\n",
            "    (28): Conv2d(512, 512, kernel_size=(3, 3), stride=(1, 1), padding=(1, 1))\n",
            "    (29): ReLU(inplace=True)\n",
            "    (30): MaxPool2d(kernel_size=2, stride=2, padding=0, dilation=1, ceil_mode=False)\n",
            "  )\n",
            "  (avgpool): AdaptiveAvgPool2d(output_size=(7, 7))\n",
            "  (classifier): Sequential(\n",
            "    (0): Linear(in_features=25088, out_features=4096, bias=True)\n",
            "    (1): ReLU(inplace=True)\n",
            "    (2): Dropout(p=0.5, inplace=False)\n",
            "    (3): Linear(in_features=4096, out_features=4096, bias=True)\n",
            "    (4): ReLU(inplace=True)\n",
            "    (5): Dropout(p=0.5, inplace=False)\n",
            "    (6): Linear(in_features=4096, out_features=1000, bias=True)\n",
            "  )\n",
            ")\n"
          ]
        },
        {
          "output_type": "display_data",
          "data": {
            "image/png": "[encoded data removed]",
            "text/plain": [
              "<Figure size 432x288 with 1 Axes>"
            ]
          },
          "metadata": {
            "needs_background": "light"
          }
        },
        {
          "output_type": "stream",
          "name": "stdout",
          "text": [
            "Probablity TOP-3:\n",
            "\n",
            "\n",
            "TOP_1\n",
            "Probablity:0.804244875907898\n",
            "Predicted: 'ice bear\n",
            "\n",
            "TOP_2\n",
            "Probablity:0.14214567840099335\n",
            "Predicted: 'Arctic fox\n",
            "\n",
            "TOP_3\n",
            "Probablity:0.03769978880882263\n",
            "Predicted: 'white wolf\n",
            "\n"
          ]
        }
      ]
    }
  ]
}